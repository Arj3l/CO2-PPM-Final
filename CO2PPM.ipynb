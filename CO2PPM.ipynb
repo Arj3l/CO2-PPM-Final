{
 "cells": [
  {
   "cell_type": "markdown",
   "metadata": {},
   "source": [
    "# CO2 PPM - Trends in Atmospheric Carbon Dioxide\n",
    "#### Members: Manuel E. Mendez Jr., Kiyoharu Sarmiento, Rijel S. Tayag\n"
   ]
  },
  {
   "cell_type": "markdown",
   "metadata": {},
   "source": [
    "#### Dataset URL = https://datahub.io/core/co2-ppm?fbclid=IwZXh0bgNhZW0CMTEAAR3M_1xY5QFmS8QgeqfnxP3rYNL4BKyOjRoduVYio98z-1xYSdvv9VAlxYA_aem_ClL6cpumh_1hEZh8l9tYrg"
   ]
  },
  {
   "cell_type": "markdown",
   "metadata": {},
   "source": []
  },
  {
   "cell_type": "markdown",
   "metadata": {},
   "source": [
    "### Import Libraries"
   ]
  },
  {
   "cell_type": "code",
   "execution_count": 1,
   "metadata": {},
   "outputs": [],
   "source": [
    "import pandas as pd\n",
    "import matplotlib.pyplot as plt\n",
    "import seaborn as sns\n",
    "from sklearn.model_selection import train_test_split\n",
    "from sklearn.linear_model import LinearRegression\n",
    "from sklearn.tree import DecisionTreeRegressor\n",
    "from sklearn.ensemble import RandomForestRegressor, GradientBoostingRegressor\n",
    "from sklearn.metrics import mean_absolute_error, mean_squared_error, r2_score"
   ]
  },
  {
   "cell_type": "markdown",
   "metadata": {},
   "source": [
    "### Load and assign the dataset"
   ]
  },
  {
   "cell_type": "code",
   "execution_count": 4,
   "metadata": {},
   "outputs": [],
   "source": [
    "CO2_PPM = './dataset/CO2.csv'\n",
    "\n",
    "# Load the dataset\n",
    "df = pd.read_csv(CO2_PPM)"
   ]
  },
  {
   "cell_type": "markdown",
   "metadata": {},
   "source": [
    "### Display the first few rows of the dataset"
   ]
  },
  {
   "cell_type": "code",
   "execution_count": 5,
   "metadata": {},
   "outputs": [
    {
     "name": "stdout",
     "output_type": "stream",
     "text": [
      "      Date  Decimal Date  Average  Interpolated  Trend  Number of Days  \\\n",
      "0  1958-03     1958.2027   315.71        314.44     -1           -9.99   \n",
      "1  1958-04     1958.2877   317.45        315.16     -1           -9.99   \n",
      "2  1958-05     1958.3699   317.51        314.69     -1           -9.99   \n",
      "3  1958-06     1958.4548   317.27        315.15     -1           -9.99   \n",
      "4  1958-07     1958.5370   315.87        315.20     -1           -9.99   \n",
      "\n",
      "  __parsed_extra  \n",
      "0        [-0.99]  \n",
      "1        [-0.99]  \n",
      "2        [-0.99]  \n",
      "3        [-0.99]  \n",
      "4        [-0.99]  \n"
     ]
    }
   ],
   "source": [
    "print(df.head())"
   ]
  },
  {
   "cell_type": "markdown",
   "metadata": {},
   "source": []
  }
 ],
 "metadata": {
  "kernelspec": {
   "display_name": "Python 3",
   "language": "python",
   "name": "python3"
  },
  "language_info": {
   "codemirror_mode": {
    "name": "ipython",
    "version": 3
   },
   "file_extension": ".py",
   "mimetype": "text/x-python",
   "name": "python",
   "nbconvert_exporter": "python",
   "pygments_lexer": "ipython3",
   "version": "3.12.6"
  }
 },
 "nbformat": 4,
 "nbformat_minor": 2
}
